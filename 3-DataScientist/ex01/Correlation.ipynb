{
 "cells": [
  {
   "cell_type": "code",
   "execution_count": 1,
   "id": "bdcd1f0a-28c9-44f8-b949-bad251535533",
   "metadata": {},
   "outputs": [],
   "source": [
    "import pandas as pd\n",
    "import numpy as np"
   ]
  },
  {
   "cell_type": "code",
   "execution_count": 2,
   "id": "8544e629-d9bd-47d9-bf9c-3d10ee31bf0b",
   "metadata": {},
   "outputs": [
    {
     "name": "stdout",
     "output_type": "stream",
     "text": [
      "   Sensitivity  Hability  Strength   Power  Agility  Dexterity  Awareness  \\\n",
      "0        11.80     17.26     75.26   431.9  0.09087    0.06232   0.028530   \n",
      "1        19.81     22.15    130.00  1260.0  0.09831    0.10270   0.147900   \n",
      "2        10.97     17.20     71.73   371.5  0.08915    0.11130   0.094570   \n",
      "3        11.62     18.18     76.38   408.8  0.11750    0.14830   0.102000   \n",
      "4        11.26     19.83     71.30   388.1  0.08511    0.04413   0.005067   \n",
      "\n",
      "   Prescience  Reactivity  Midi-chlorien  ...  Evade   Stims  Sprint   Combo  \\\n",
      "0    0.016380      0.1847        0.06019  ...  24.49   86.00   562.0  0.1244   \n",
      "1    0.094980      0.1582        0.05395  ...  30.88  186.80  2398.0  0.1512   \n",
      "2    0.036130      0.1489        0.06640  ...  26.87   90.14   476.4  0.1391   \n",
      "3    0.055640      0.1957        0.07255  ...  25.40   88.14   528.1  0.1780   \n",
      "4    0.005664      0.1637        0.06343  ...  26.43   76.38   435.9  0.1108   \n",
      "\n",
      "     Delay  Attunement  Empowered   Burst  Grasping  knight  \n",
      "0  0.17260     0.14490    0.05356  0.2779   0.08121    Sith  \n",
      "1  0.31500     0.53720    0.23880  0.2768   0.07615    Jedi  \n",
      "2  0.40820     0.47790    0.15550  0.2540   0.09532    Sith  \n",
      "3  0.28780     0.31860    0.14160  0.2660   0.09270    Sith  \n",
      "4  0.07723     0.02533    0.02832  0.2557   0.07613    Sith  \n",
      "\n",
      "[5 rows x 31 columns]\n"
     ]
    }
   ],
   "source": [
    "try:\n",
    "    df = pd.read_csv(\"../Train_knight.csv\")\n",
    "    print(df.head())\n",
    "except Exception as e:\n",
    "    print(e)"
   ]
  },
  {
   "cell_type": "code",
   "execution_count": 12,
   "id": "ee3bd760-565b-4740-8b6a-717225f45f22",
   "metadata": {},
   "outputs": [
    {
     "name": "stdout",
     "output_type": "stream",
     "text": [
      "knight          1.000000\n",
      "Empowered       0.793652\n",
      "Prescience      0.790066\n",
      "Stims           0.786797\n",
      "Recovery        0.777633\n",
      "Sprint          0.739672\n",
      "Strength        0.737403\n",
      "Sensitivity     0.721566\n",
      "Power           0.700709\n",
      "Awareness       0.699662\n",
      "Attunement      0.648893\n",
      "Dexterity       0.631987\n",
      "Delay           0.598072\n",
      "Slash           0.550663\n",
      "Pull            0.537800\n",
      "Lightsaber      0.515340\n",
      "Evade           0.465605\n",
      "Hability        0.446632\n",
      "Burst           0.445847\n",
      "Combo           0.445223\n",
      "Blocking        0.421950\n",
      "Agility         0.397458\n",
      "Reactivity      0.375103\n",
      "Grasping        0.350105\n",
      "Repulse         0.324399\n",
      "Friendship      0.236633\n",
      "Mass            0.113185\n",
      "Midi-chlorien   0.008132\n",
      "Push            -0.019446\n",
      "Deflection      -0.026489\n",
      "Survival        -0.043099\n"
     ]
    }
   ],
   "source": [
    "df['knight'] = pd.factorize(df['knight'])[0]\n",
    "\n",
    "# Calculate correlation between 'knight' and the rest of columns\n",
    "correlations = df.corr()['knight'].sort_values(ascending=False)\n",
    "\n",
    "print(\"knight\".ljust(15), \"1.000000\")\n",
    "for feature, correlation in correlations.items():\n",
    "    if feature != 'knight':\n",
    "        print(f\"{feature.ljust(15)} {correlation:.6f}\")"
   ]
  },
  {
   "cell_type": "code",
   "execution_count": null,
   "id": "1f157082-8fe0-4957-bcd6-d99cae79077b",
   "metadata": {
    "editable": true,
    "slideshow": {
     "slide_type": ""
    },
    "tags": []
   },
   "outputs": [],
   "source": []
  }
 ],
 "metadata": {
  "kernelspec": {
   "display_name": "Python 3 (ipykernel)",
   "language": "python",
   "name": "python3"
  },
  "language_info": {
   "codemirror_mode": {
    "name": "ipython",
    "version": 3
   },
   "file_extension": ".py",
   "mimetype": "text/x-python",
   "name": "python",
   "nbconvert_exporter": "python",
   "pygments_lexer": "ipython3",
   "version": "3.11.6"
  }
 },
 "nbformat": 4,
 "nbformat_minor": 5
}
