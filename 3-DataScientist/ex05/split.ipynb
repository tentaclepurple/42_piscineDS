{
 "cells": [
  {
   "cell_type": "code",
   "execution_count": null,
   "id": "18e3aea1-beb5-4f2d-a0e5-c72d7e691894",
   "metadata": {},
   "outputs": [],
   "source": [
    "import pandas as pd\n",
    "from sklearn.model_selection import train_test_split"
   ]
  },
  {
   "cell_type": "code",
   "execution_count": 12,
   "id": "56c8c4a9-0845-47af-b74e-e8cad2ba4fc3",
   "metadata": {},
   "outputs": [],
   "source": [
    "df = pd.read_csv(\"../Train_knight.csv\")"
   ]
  },
  {
   "cell_type": "code",
   "execution_count": 13,
   "id": "4c8121fa-a707-4c26-9bc1-51130cd47c3d",
   "metadata": {},
   "outputs": [],
   "source": [
    "# divide df into training and test/validation\n",
    "# Tipical proportion is 80% train, 20% test (can be adjusted)\n",
    "train_df, val_df = train_test_split(df, test_size=0.2, random_state=42)"
   ]
  },
  {
   "cell_type": "code",
   "execution_count": 14,
   "id": "ee3d9dc9-0782-405c-9f35-4e79b6f34068",
   "metadata": {},
   "outputs": [],
   "source": [
    "# save csvs\n",
    "train_df.to_csv('Training_knight.csv', index=False)\n",
    "val_df.to_csv('Validation_knight.csv', index=False)"
   ]
  },
  {
   "cell_type": "code",
   "execution_count": 15,
   "id": "50676871-439d-4388-8015-ffaa534859d9",
   "metadata": {},
   "outputs": [
    {
     "name": "stdout",
     "output_type": "stream",
     "text": [
      "Percentage of data in Training_knight.csv: 79.90%\n",
      "Percentage of data in Validation_knight.csv: 20.10%\n"
     ]
    }
   ],
   "source": [
    "# show percentages\n",
    "train_percentage = len(train_df) / len(df) * 100\n",
    "val_percentage = len(val_df) / len(df) * 100\n",
    "\n",
    "print(f'Percentage of data in Training_knight.csv: {train_percentage:.2f}%')\n",
    "print(f'Percentage of data in Validation_knight.csv: {val_percentage:.2f}%')"
   ]
  },
  {
   "cell_type": "code",
   "execution_count": null,
   "id": "c93edd25-2e77-4370-b6b2-37af88e8956d",
   "metadata": {},
   "outputs": [],
   "source": []
  }
 ],
 "metadata": {
  "kernelspec": {
   "display_name": "Python 3 (ipykernel)",
   "language": "python",
   "name": "python3"
  },
  "language_info": {
   "codemirror_mode": {
    "name": "ipython",
    "version": 3
   },
   "file_extension": ".py",
   "mimetype": "text/x-python",
   "name": "python",
   "nbconvert_exporter": "python",
   "pygments_lexer": "ipython3",
   "version": "3.11.0"
  }
 },
 "nbformat": 4,
 "nbformat_minor": 5
}
