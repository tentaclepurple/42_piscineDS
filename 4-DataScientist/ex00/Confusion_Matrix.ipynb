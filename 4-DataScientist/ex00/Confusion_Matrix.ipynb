{
 "cells": [
  {
   "cell_type": "markdown",
   "id": "72afbbe8-a70d-4bc6-8be9-8fe3d61df913",
   "metadata": {},
   "source": [
    "confusion matrix\n",
    "binary clasification models accuracy\n",
    "stablish 1 label as positive and other as negative\n",
    "Jedi = positive\n",
    "Sith = negative\n",
    "\n",
    "prediction   real\n",
    "-----------------\n",
    "Jedi         Jedi    true positive\n",
    "Sith         Sith    true negative\n",
    "Jedi         Sith    false positive\n",
    "Sith         Jedi    false negative\n",
    "\n",
    "Compare, count and make a matrix"
   ]
  },
  {
   "cell_type": "code",
   "execution_count": 40,
   "id": "0a0431fe-07b1-4b20-8667-c2c465ea92da",
   "metadata": {},
   "outputs": [],
   "source": [
    "import matplotlib.pyplot as plt\n",
    "import numpy as np\n",
    "import matplotlib.pyplot as plt\n",
    "import seaborn as sns"
   ]
  },
  {
   "cell_type": "code",
   "execution_count": 34,
   "id": "0ada8b45-9504-4fcf-826c-9dd9554098a6",
   "metadata": {},
   "outputs": [],
   "source": [
    "with open (\"../truth.txt\", 'r') as file:\n",
    "    truth_labels = [line.strip() for line in file]\n",
    "\n",
    "with open(\"../predictions.txt\", 'r') as file:\n",
    "    prediction_labels = [line.strip() for line in file]"
   ]
  },
  {
   "cell_type": "code",
   "execution_count": 35,
   "id": "d016b3e1-5e77-495f-a81f-1547a998b7a5",
   "metadata": {},
   "outputs": [
    {
     "name": "stdout",
     "output_type": "stream",
     "text": [
      "[[25 24]\n",
      " [30 21]]\n"
     ]
    }
   ],
   "source": [
    "def confusion_matrix(truth_labels, prediction_labels):\n",
    "    true_positive = true_negative = false_positive = false_negative = 0\n",
    "    \n",
    "    for real, pred in zip(truth_labels, prediction_labels):\n",
    "        if real == 'Jedi' and pred == 'Jedi':\n",
    "            true_positive += 1\n",
    "        elif real == 'Sith' and pred == 'Sith':\n",
    "            true_negative += 1\n",
    "        elif real == 'Jedi' and pred == 'Sith':\n",
    "            false_positive += 1\n",
    "        elif real == 'Sith' and pred == 'Jedi':\n",
    "            false_negative += 1\n",
    "    \n",
    "    return np.array([[true_positive, false_positive], [false_negative, true_negative]])\n",
    "\n",
    "\n",
    "confusion_matrix = confusion_matrix(truth_labels, prediction_labels)\n",
    "print(confusion_matrix)"
   ]
  },
  {
   "cell_type": "markdown",
   "id": "a771d2b2-b51b-4b91-a4a6-e2a601f72ab5",
   "metadata": {},
   "source": [
    "# Metrics"
   ]
  },
  {
   "cell_type": "markdown",
   "id": "1c490c70-691b-421b-9f4d-2994add7982d",
   "metadata": {},
   "source": [
    "Precision:\n",
    "----------\n",
    "proportion of true positive cases between predicted positives\n",
    "\n",
    "precision = true_positives / (true_positives + false_positives)\n",
    "\n",
    "high precision means when the model predicts positive theres a high probability of being correct\n",
    "precision is useful when the cost of false positives is high. For example, in a spam detection system, high accuracy means that when the system marks an email as spam, it is very likely that it is spam."
   ]
  },
  {
   "cell_type": "markdown",
   "id": "05bc4a48-1c0e-49b2-9fef-5532d1def9ed",
   "metadata": {},
   "source": [
    "Recall:\n",
    "-------\n",
    "\n",
    "proportion of true positive cases correctly identified\n",
    "\n",
    "recall = true_positives / (true_positives + false_negatives)\n",
    "\n",
    "Recall is important when the cost of false negatives is high. For example, in disease detection, high recall means that the model correctly identifies most sick patients."
   ]
  },
  {
   "cell_type": "markdown",
   "id": "e75107ff-d61f-4e1c-8665-dd14880ed52c",
   "metadata": {},
   "source": [
    "F-1 Score:\n",
    "----------\n",
    "\n",
    "Is the harmonic mean between precision and recall, providing a single value that balances both metrics.\n",
    "\n",
    "F1-Score = 2 * (Precisión * Recall) / (Precisión + Recall)\n",
    "\n",
    "The F1-Score is useful when looking for a balance between precision and recall, especially on imbalanced datasets. It provides a unique measure of the model's effectiveness."
   ]
  },
  {
   "cell_type": "markdown",
   "id": "e3420d4e-1587-42e7-ad0a-95b7c1087104",
   "metadata": {},
   "source": [
    "Accuracy:\n",
    "---------\n",
    "\n",
    "Accuracy measures the proportion of correct predictions (both positive and negative) among the total number of cases examined.\n",
    "\r",
    " Accuracy = true_positivesP +true_negativesP) / true_positives + true_negatives + false_positives + false_negativesN\n",
    "\n",
    "Accuracy is useful when classes are balanced. However, it can be misleading on imbalanced datasets.)"
   ]
  },
  {
   "cell_type": "code",
   "execution_count": 36,
   "id": "92fcebd8-c2db-4ab6-8b2d-284f563b2dcb",
   "metadata": {},
   "outputs": [],
   "source": [
    "def calculate_metrics(confusion_matrix):\n",
    "    [[tp, fp], [fn, tn]] = confusion_matrix\n",
    "    \n",
    "    # metrics for Jedi\n",
    "    jedi_precision = tp / (tp + fp) if (tp + fp) > 0 else 0\n",
    "    jedi_recall = tp / (tp + fn) if (tp + fn) > 0 else 0\n",
    "    jedi_f1 = 2 * (jedi_precision * jedi_recall) / (jedi_precision + jedi_recall) if (jedi_precision + jedi_recall) > 0 else 0\n",
    "    \n",
    "    # metrics for Sith\n",
    "    sith_precision = tn / (tn + fn) if (tn + fn) > 0 else 0\n",
    "    sith_recall = tn / (tn + fp) if (tn + fp) > 0 else 0\n",
    "    sith_f1 = 2 * (sith_precision * sith_recall) / (sith_precision + sith_recall) if (sith_precision + sith_recall) > 0 else 0\n",
    "    \n",
    "    # accuracy\n",
    "    accuracy = (tp + tn) / (tp + tn + fp + fn)\n",
    "    \n",
    "    # totals\n",
    "    jedi_total = tp + fn\n",
    "    sith_total = tn + fp\n",
    "    \n",
    "    return {\n",
    "        'Jedi': (jedi_precision, jedi_recall, jedi_f1, jedi_total),\n",
    "        'Sith': (sith_precision, sith_recall, sith_f1, sith_total),\n",
    "        'accuracy': accuracy,\n",
    "        'total': jedi_total + sith_total\n",
    "    }"
   ]
  },
  {
   "cell_type": "code",
   "execution_count": 37,
   "id": "da9d194c-407b-427f-9e65-48c8d8d70588",
   "metadata": {},
   "outputs": [],
   "source": [
    "def print_formatted_output(metrics):\n",
    "    print(\"          precision recall f1-score total\")\n",
    "    print(f\"Jedi      {metrics['Jedi'][0]:.2f}      {metrics['Jedi'][1]:.2f}   {metrics['Jedi'][2]:.2f}     {metrics['Jedi'][3]}\")\n",
    "    print(f\"Sith      {metrics['Sith'][0]:.2f}      {metrics['Sith'][1]:.2f}   {metrics['Sith'][2]:.2f}     {metrics['Sith'][3]}\")\n",
    "    print(f\"accuracy                   {metrics['accuracy']:.2f}    {metrics['total']}\")"
   ]
  },
  {
   "cell_type": "code",
   "execution_count": 38,
   "id": "531500e9-61ac-41db-9ade-66583f520c0f",
   "metadata": {},
   "outputs": [
    {
     "name": "stdout",
     "output_type": "stream",
     "text": [
      "          precision recall f1-score total\n",
      "Jedi      0.51      0.45   0.48     55\n",
      "Sith      0.41      0.47   0.44     45\n",
      "accuracy                   0.46    100\n"
     ]
    }
   ],
   "source": [
    "metrics = calculate_metrics(confusion_matrix)\n",
    "print_formatted_output(metrics)"
   ]
  },
  {
   "cell_type": "code",
   "execution_count": 49,
   "id": "fa3c00dc-340b-4d9e-9ebd-d70a02a24652",
   "metadata": {},
   "outputs": [
    {
     "data": {
      "image/png": "[encoded data removed]",
      "text/plain": [
       "<Figure size 800x600 with 2 Axes>"
      ]
     },
     "metadata": {},
     "output_type": "display_data"
    }
   ],
   "source": [
    "class_names = ['0', '1']\n",
    "\n",
    "plt.figure(figsize=(8, 6))\n",
    "\n",
    "sns.heatmap(confusion_matrix, annot=True, fmt='d', cmap='viridis',\n",
    "            xticklabels=class_names, yticklabels=class_names)\n",
    "plt.title('Confusion Matrix')\n",
    "#plt.ylabel('Etiqueta Verdadera')\n",
    "#plt.xlabel('Etiqueta Predicha')\n",
    "plt.tight_layout()\n",
    "plt.show()"
   ]
  },
  {
   "cell_type": "code",
   "execution_count": null,
   "id": "7ebcdb14-a2be-4068-a9f8-e6279311ed2c",
   "metadata": {},
   "outputs": [],
   "source": []
  }
 ],
 "metadata": {
  "kernelspec": {
   "display_name": "Python 3 (ipykernel)",
   "language": "python",
   "name": "python3"
  },
  "language_info": {
   "codemirror_mode": {
    "name": "ipython",
    "version": 3
   },
   "file_extension": ".py",
   "mimetype": "text/x-python",
   "name": "python",
   "nbconvert_exporter": "python",
   "pygments_lexer": "ipython3",
   "version": "3.11.6"
  }
 },
 "nbformat": 4,
 "nbformat_minor": 5
}
